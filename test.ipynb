{
 "cells": [
  {
   "cell_type": "code",
   "execution_count": 4,
   "metadata": {
    "ExecuteTime": {
     "end_time": "2018-05-01T20:18:25.911596Z",
     "start_time": "2018-05-01T20:18:25.907772Z"
    }
   },
   "outputs": [],
   "source": [
    "from lib.ENAS_MP import ENAS"
   ]
  },
  {
   "cell_type": "code",
   "execution_count": 5,
   "metadata": {
    "ExecuteTime": {
     "end_time": "2018-05-01T20:18:30.114287Z",
     "start_time": "2018-05-01T20:18:30.059637Z"
    }
   },
   "outputs": [],
   "source": [
    "controller = ENAS()"
   ]
  },
  {
   "cell_type": "code",
   "execution_count": 7,
   "metadata": {
    "ExecuteTime": {
     "end_time": "2018-05-01T20:20:49.741309Z",
     "start_time": "2018-05-01T20:20:49.732689Z"
    }
   },
   "outputs": [
    {
     "name": "stdout",
     "output_type": "stream",
     "text": [
      "[{'filters': 16}, {'groups': 1}, {'kernels': 1}, {'dilations': 1}, {'activations': Softmax()}, {'strides': 1}, {'skips': 0}] [{'filters': 16}, {'groups': 1}, {'kernels': 1}, {'dilations': 1}, {'activations': Softmax()}, {'strides': 1}, {'skips': 0}]\n"
     ]
    }
   ],
   "source": [
    "min_layers = []\n",
    "max_layers = []\n",
    "\n",
    "min_settings = []\n",
    "max_settings = []\n",
    "\n",
    "for key, val in controller.decisions.items():\n",
    "    min_setting = {}\n",
    "    min_setting[key] = val[0]\n",
    "    min_settings.append(min_setting)\n",
    "    \n",
    "    max_setting = {}\n",
    "    max_setting[key] = val[0]\n",
    "    max_settings.append(max_setting)\n",
    "    \n",
    "for _ in range(controller.num_layers):\n",
    "    min_layers.append(min_settings)\n",
    "    max_layers.append(max_settings)\n",
    "    \n",
    "#min_arch = controller.make_arch_from_settings(min_layers)\n",
    "#max_arch = controller.make_arch_from_settings(max_layers)"
   ]
  },
  {
   "cell_type": "code",
   "execution_count": null,
   "metadata": {},
   "outputs": [],
   "source": []
  }
 ],
 "metadata": {
  "kernelspec": {
   "display_name": "Python 3",
   "language": "python",
   "name": "python3"
  },
  "language_info": {
   "codemirror_mode": {
    "name": "ipython",
    "version": 3
   },
   "file_extension": ".py",
   "mimetype": "text/x-python",
   "name": "python",
   "nbconvert_exporter": "python",
   "pygments_lexer": "ipython3",
   "version": "3.6.3"
  },
  "toc": {
   "nav_menu": {},
   "number_sections": true,
   "sideBar": true,
   "skip_h1_title": false,
   "toc_cell": false,
   "toc_position": {},
   "toc_section_display": "block",
   "toc_window_display": false
  }
 },
 "nbformat": 4,
 "nbformat_minor": 2
}
