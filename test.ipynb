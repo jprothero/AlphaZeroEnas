{
 "cells": [
  {
   "cell_type": "code",
   "execution_count": 1,
   "metadata": {
    "ExecuteTime": {
     "end_time": "2018-05-01T20:37:00.067020Z",
     "start_time": "2018-05-01T20:36:57.255362Z"
    }
   },
   "outputs": [],
   "source": [
    "from lib.ENAS_MP import ENAS"
   ]
  },
  {
   "cell_type": "code",
   "execution_count": 2,
   "metadata": {
    "ExecuteTime": {
     "end_time": "2018-05-01T20:37:00.230082Z",
     "start_time": "2018-05-01T20:37:00.070220Z"
    }
   },
   "outputs": [],
   "source": [
    "controller = ENAS()"
   ]
  },
  {
   "cell_type": "code",
   "execution_count": 3,
   "metadata": {
    "ExecuteTime": {
     "end_time": "2018-05-01T20:37:00.260123Z",
     "start_time": "2018-05-01T20:37:00.232999Z"
    }
   },
   "outputs": [],
   "source": [
    "min_layers = []\n",
    "max_layers = []\n",
    "\n",
    "min_settings = {}\n",
    "max_settings = {}\n",
    "\n",
    "for key, val in controller.decisions.items():\n",
    "    min_settings[key] = val[0]\n",
    "    max_settings[key] = val[-1]\n",
    "    \n",
    "for _ in range(controller.num_layers):\n",
    "    min_layers.append(min_settings)\n",
    "    max_layers.append(max_settings)\n",
    "    \n",
    "min_arch = controller.create_arch_from_settings(min_layers)\n",
    "max_arch = controller.create_arch_from_settings(max_layers)"
   ]
  },
  {
   "cell_type": "code",
   "execution_count": 5,
   "metadata": {
    "ExecuteTime": {
     "end_time": "2018-05-01T20:37:10.633503Z",
     "start_time": "2018-05-01T20:37:10.625414Z"
    }
   },
   "outputs": [
    {
     "data": {
      "text/plain": [
       "332874"
      ]
     },
     "execution_count": 5,
     "metadata": {},
     "output_type": "execute_result"
    }
   ],
   "source": [
    "controller.count_parameters(min_arch)\n",
    "controller.count_parameters(max_arch)"
   ]
  }
 ],
 "metadata": {
  "kernelspec": {
   "display_name": "Python 3",
   "language": "python",
   "name": "python3"
  },
  "language_info": {
   "codemirror_mode": {
    "name": "ipython",
    "version": 3
   },
   "file_extension": ".py",
   "mimetype": "text/x-python",
   "name": "python",
   "nbconvert_exporter": "python",
   "pygments_lexer": "ipython3",
   "version": "3.6.3"
  },
  "toc": {
   "nav_menu": {},
   "number_sections": true,
   "sideBar": true,
   "skip_h1_title": false,
   "toc_cell": false,
   "toc_position": {},
   "toc_section_display": "block",
   "toc_window_display": false
  }
 },
 "nbformat": 4,
 "nbformat_minor": 2
}
