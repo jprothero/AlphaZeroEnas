{
 "cells": [
  {
   "cell_type": "code",
   "execution_count": 1,
   "metadata": {
    "ExecuteTime": {
     "end_time": "2018-04-27T13:50:36.806095Z",
     "start_time": "2018-04-27T13:50:36.471821Z"
    }
   },
   "outputs": [],
   "source": [
    "import torch"
   ]
  },
  {
   "cell_type": "code",
   "execution_count": 2,
   "metadata": {
    "ExecuteTime": {
     "end_time": "2018-04-27T13:50:39.979862Z",
     "start_time": "2018-04-27T13:50:39.960382Z"
    }
   },
   "outputs": [
    {
     "data": {
      "text/plain": [
       "[1, 2, 3]"
      ]
     },
     "execution_count": 2,
     "metadata": {},
     "output_type": "execute_result"
    }
   ],
   "source": [
    "[1, 2, 3]"
   ]
  },
  {
   "cell_type": "code",
   "execution_count": 6,
   "metadata": {
    "ExecuteTime": {
     "end_time": "2018-04-27T14:27:50.591041Z",
     "start_time": "2018-04-27T14:27:50.584070Z"
    }
   },
   "outputs": [
    {
     "data": {
      "text/plain": [
       "\n",
       " 1.0000\n",
       " 2.0000\n",
       " 3.3000\n",
       "[torch.FloatTensor of size (3,)]"
      ]
     },
     "execution_count": 6,
     "metadata": {},
     "output_type": "execute_result"
    }
   ],
   "source": [
    "torch.tensor([1, 2, 3.3])"
   ]
  },
  {
   "cell_type": "code",
   "execution_count": 7,
   "metadata": {
    "ExecuteTime": {
     "end_time": "2018-04-27T14:27:56.858375Z",
     "start_time": "2018-04-27T14:27:56.853797Z"
    }
   },
   "outputs": [],
   "source": [
    "import torch.nn as nn"
   ]
  },
  {
   "cell_type": "code",
   "execution_count": 12,
   "metadata": {
    "ExecuteTime": {
     "end_time": "2018-04-27T14:29:04.825972Z",
     "start_time": "2018-04-27T14:29:04.813683Z"
    }
   },
   "outputs": [
    {
     "data": {
      "text/plain": [
       "\n",
       "(0 ,.,.) = \n",
       "  0.2109\n",
       "  0.0540\n",
       "  0.1943\n",
       "  0.2215\n",
       "  0.0393\n",
       "  0.0874\n",
       "  0.0443\n",
       "  0.0291\n",
       "  0.0436\n",
       "  0.0755\n",
       "[torch.FloatTensor of size (1,10,1)]"
      ]
     },
     "execution_count": 12,
     "metadata": {},
     "output_type": "execute_result"
    }
   ],
   "source": [
    "nn.Softmax(dim=1)(nn.Conv1d(1, 10, 1)(torch.randn(1, 1, 1)))"
   ]
  },
  {
   "cell_type": "code",
   "execution_count": 13,
   "metadata": {
    "ExecuteTime": {
     "end_time": "2018-04-27T15:11:55.944732Z",
     "start_time": "2018-04-27T15:11:55.939404Z"
    }
   },
   "outputs": [],
   "source": [
    "import numpy as np"
   ]
  },
  {
   "cell_type": "code",
   "execution_count": 15,
   "metadata": {
    "ExecuteTime": {
     "end_time": "2018-04-27T15:12:05.098401Z",
     "start_time": "2018-04-27T15:12:05.090167Z"
    }
   },
   "outputs": [],
   "source": [
    "a = np.ones(10)"
   ]
  },
  {
   "cell_type": "code",
   "execution_count": 16,
   "metadata": {
    "ExecuteTime": {
     "end_time": "2018-04-27T15:12:16.536102Z",
     "start_time": "2018-04-27T15:12:16.531769Z"
    }
   },
   "outputs": [],
   "source": [
    "b = np.ones(10)"
   ]
  },
  {
   "cell_type": "code",
   "execution_count": 21,
   "metadata": {
    "ExecuteTime": {
     "end_time": "2018-04-27T15:14:11.960611Z",
     "start_time": "2018-04-27T15:14:11.953751Z"
    }
   },
   "outputs": [],
   "source": [
    "matmul = lambda b: -a @ np.log(1 - np.abs(b - .5))"
   ]
  },
  {
   "cell_type": "code",
   "execution_count": 28,
   "metadata": {
    "ExecuteTime": {
     "end_time": "2018-04-27T15:15:45.313905Z",
     "start_time": "2018-04-27T15:15:34.021536Z"
    }
   },
   "outputs": [
    {
     "name": "stdout",
     "output_type": "stream",
     "text": [
      "13.9 µs ± 207 ns per loop (mean ± std. dev. of 7 runs, 100000 loops each)\n"
     ]
    }
   ],
   "source": [
    "%timeit matmul(b)"
   ]
  },
  {
   "cell_type": "code",
   "execution_count": 27,
   "metadata": {
    "ExecuteTime": {
     "end_time": "2018-04-27T15:15:32.220845Z",
     "start_time": "2018-04-27T15:15:30.611805Z"
    }
   },
   "outputs": [
    {
     "name": "stdout",
     "output_type": "stream",
     "text": [
      "19.6 µs ± 162 ns per loop (mean ± std. dev. of 7 runs, 10000 loops each)\n"
     ]
    }
   ],
   "source": [
    "%timeit np.log(1 - np.abs(b - .5)).sum()*-1"
   ]
  },
  {
   "cell_type": "code",
   "execution_count": 29,
   "metadata": {
    "ExecuteTime": {
     "end_time": "2018-04-27T16:29:53.849894Z",
     "start_time": "2018-04-27T16:29:53.838596Z"
    }
   },
   "outputs": [],
   "source": [
    "# m x n @ n @ g = m x g\n",
    "\n",
    "# we want to have one at the end\n",
    "\n",
    "# so it would be n x 1\n",
    "# m x n\n",
    "# m = len(probas), n = num_embeddings\n",
    "# then basically we mat mul the probas by the embeddings\n",
    "# and get \n",
    "\n",
    "# and that's another point is that we would get len(probas) x embedding size, which isnt\n",
    "# what we want\n",
    "# we could do 1 x m x n x 1 mb\n",
    "# again, kind of over optimizing though I think."
   ]
  },
  {
   "cell_type": "code",
   "execution_count": 30,
   "metadata": {
    "ExecuteTime": {
     "end_time": "2018-04-27T16:30:20.178069Z",
     "start_time": "2018-04-27T16:30:20.171216Z"
    }
   },
   "outputs": [
    {
     "ename": "SyntaxError",
     "evalue": "can't assign to literal (<ipython-input-30-089e198d3258>, line 1)",
     "output_type": "error",
     "traceback": [
      "\u001b[0;36m  File \u001b[0;32m\"<ipython-input-30-089e198d3258>\"\u001b[0;36m, line \u001b[0;32m1\u001b[0m\n\u001b[0;31m    360 = x*.03\u001b[0m\n\u001b[0m               ^\u001b[0m\n\u001b[0;31mSyntaxError\u001b[0m\u001b[0;31m:\u001b[0m can't assign to literal\n"
     ]
    }
   ],
   "source": [
    "360 = .03x\n",
    "200 = .3x\n",
    "\n",
    "560 = .33x"
   ]
  },
  {
   "cell_type": "code",
   "execution_count": 48,
   "metadata": {
    "ExecuteTime": {
     "end_time": "2018-04-27T16:35:45.525198Z",
     "start_time": "2018-04-27T16:35:45.517021Z"
    }
   },
   "outputs": [],
   "source": [
    "x = .03*360"
   ]
  },
  {
   "cell_type": "code",
   "execution_count": 52,
   "metadata": {
    "ExecuteTime": {
     "end_time": "2018-04-27T16:36:51.755802Z",
     "start_time": "2018-04-27T16:36:51.749480Z"
    }
   },
   "outputs": [
    {
     "data": {
      "text/plain": [
       "10.799999999999999"
      ]
     },
     "execution_count": 52,
     "metadata": {},
     "output_type": "execute_result"
    }
   ],
   "source": [
    ".03*360"
   ]
  },
  {
   "cell_type": "code",
   "execution_count": 58,
   "metadata": {
    "ExecuteTime": {
     "end_time": "2018-04-27T16:37:33.389233Z",
     "start_time": "2018-04-27T16:37:33.384571Z"
    }
   },
   "outputs": [],
   "source": [
    "y = 10/360"
   ]
  },
  {
   "cell_type": "code",
   "execution_count": 59,
   "metadata": {
    "ExecuteTime": {
     "end_time": "2018-04-27T16:37:33.790286Z",
     "start_time": "2018-04-27T16:37:33.784222Z"
    }
   },
   "outputs": [
    {
     "data": {
      "text/plain": [
       "0.027777777777777776"
      ]
     },
     "execution_count": 59,
     "metadata": {},
     "output_type": "execute_result"
    }
   ],
   "source": [
    "y"
   ]
  },
  {
   "cell_type": "code",
   "execution_count": 62,
   "metadata": {
    "ExecuteTime": {
     "end_time": "2018-04-27T16:39:56.829399Z",
     "start_time": "2018-04-27T16:39:56.823651Z"
    }
   },
   "outputs": [
    {
     "data": {
      "text/plain": [
       "3.3333333333333335"
      ]
     },
     "execution_count": 62,
     "metadata": {},
     "output_type": "execute_result"
    }
   ],
   "source": [
    "y = 10/3\n",
    "y"
   ]
  },
  {
   "cell_type": "code",
   "execution_count": 65,
   "metadata": {
    "ExecuteTime": {
     "end_time": "2018-04-27T17:33:04.567263Z",
     "start_time": "2018-04-27T17:32:59.483988Z"
    }
   },
   "outputs": [
    {
     "name": "stdout",
     "output_type": "stream",
     "text": [
      "Collecting mpipe\n",
      "  Downloading https://files.pythonhosted.org/packages/78/10/24cd8fbfc8f65d841ddfc22a95ad987c1701c0323d962bd1c0fd855e8c6b/mpipe-1.0.8.tar.gz\n",
      "Building wheels for collected packages: mpipe\n",
      "  Running setup.py bdist_wheel for mpipe ... \u001b[?25ldone\n",
      "\u001b[?25h  Stored in directory: /home/jprothero/.cache/pip/wheels/50/e2/08/557cc31ff04fda74f6d7dbfd53df5dc2fa085efed1e4d97006\n",
      "Successfully built mpipe\n",
      "Installing collected packages: mpipe\n",
      "Successfully installed mpipe-1.0.8\n"
     ]
    }
   ],
   "source": [
    "!pip install mpipe"
   ]
  },
  {
   "cell_type": "code",
   "execution_count": 73,
   "metadata": {
    "ExecuteTime": {
     "end_time": "2018-04-27T17:36:02.679804Z",
     "start_time": "2018-04-27T17:36:02.669582Z"
    }
   },
   "outputs": [],
   "source": [
    "from mpipe import OrderedStage, Pipeline"
   ]
  },
  {
   "cell_type": "code",
   "execution_count": 74,
   "metadata": {
    "ExecuteTime": {
     "end_time": "2018-04-27T17:36:02.870912Z",
     "start_time": "2018-04-27T17:36:02.865925Z"
    }
   },
   "outputs": [],
   "source": [
    "def select(value):\n",
    "    for _ in range(100):\n",
    "        pass\n",
    "    \n",
    "    return value**2"
   ]
  },
  {
   "cell_type": "code",
   "execution_count": 75,
   "metadata": {
    "ExecuteTime": {
     "end_time": "2018-04-27T17:36:03.098396Z",
     "start_time": "2018-04-27T17:36:03.093269Z"
    }
   },
   "outputs": [],
   "source": [
    "def evaluate(value):\n",
    "    for _ in range(100):\n",
    "        pass\n",
    "\n",
    "    print(value)"
   ]
  },
  {
   "cell_type": "code",
   "execution_count": 76,
   "metadata": {
    "ExecuteTime": {
     "end_time": "2018-04-27T17:36:03.474697Z",
     "start_time": "2018-04-27T17:36:03.436148Z"
    }
   },
   "outputs": [
    {
     "name": "stdout",
     "output_type": "stream",
     "text": [
      "1\n",
      "4\n",
      "9\n",
      "16\n",
      "25\n"
     ]
    }
   ],
   "source": [
    "s1 = OrderedStage(select)\n",
    "s2 = OrderedStage(evaluate)\n",
    "p = Pipeline(s1.link(s2))\n",
    "\n",
    "for task in 1, 2, 3, 4, 5, None:\n",
    "    p.put(task)"
   ]
  },
  {
   "cell_type": "code",
   "execution_count": null,
   "metadata": {},
   "outputs": [],
   "source": []
  }
 ],
 "metadata": {
  "kernelspec": {
   "display_name": "Python 3",
   "language": "python",
   "name": "python3"
  },
  "language_info": {
   "codemirror_mode": {
    "name": "ipython",
    "version": 3
   },
   "file_extension": ".py",
   "mimetype": "text/x-python",
   "name": "python",
   "nbconvert_exporter": "python",
   "pygments_lexer": "ipython3",
   "version": "3.6.3"
  },
  "toc": {
   "nav_menu": {},
   "number_sections": true,
   "sideBar": true,
   "skip_h1_title": false,
   "toc_cell": false,
   "toc_position": {},
   "toc_section_display": "block",
   "toc_window_display": false
  }
 },
 "nbformat": 4,
 "nbformat_minor": 2
}
