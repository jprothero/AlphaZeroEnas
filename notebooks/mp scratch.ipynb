{
 "cells": [
  {
   "cell_type": "code",
   "execution_count": null,
   "metadata": {},
   "outputs": [],
   "source": [
    "#uhhh is there an easier way to do this? it's getting pretty complicated\n",
    "#maybe we can do multiprocessing within different parts, i.e. we do a batch would of \n",
    "#results, then we send one to each. that sounds a little simpler\n",
    "#because otherwise we have to try to synchronize over and over, and it's pretty hideous"
   ]
  },
  {
   "cell_type": "code",
   "execution_count": 12,
   "metadata": {
    "ExecuteTime": {
     "end_time": "2018-04-30T13:11:45.253328Z",
     "start_time": "2018-04-30T13:11:45.188362Z"
    }
   },
   "outputs": [
    {
     "data": {
      "text/plain": [
       "[0, 1, 2, 3, 4, 5, 6, 7, 8, 9]"
      ]
     },
     "execution_count": 12,
     "metadata": {},
     "output_type": "execute_result"
    }
   ],
   "source": [
    "from concurrent.futures import ProcessPoolExecutor as PPE\n",
    "from multiprocessing import SimpleQueue\n",
    "import time\n",
    "\n",
    "#so what do I want to do. I want to have func call a sub_func, and it has to \n",
    "#wait for other funcs to get to that point and pass that off to the queue\n",
    "q = SimpleQueue()\n",
    "batch_size = 8\n",
    "batch_taken = False\n",
    "batch_result = None\n",
    "\n",
    "def batch_function():\n",
    "    batch = []\n",
    "    while not q.empty():\n",
    "        batch.append(q.get()**2)\n",
    "\n",
    "    batch_result = batch\n",
    "\n",
    "def sub_func(i, batch_size):\n",
    "    if q.size() == batch_size and not batch_taken:\n",
    "        batch_taken = True\n",
    "        batch_function()\n",
    "        batch_taken = False\n",
    "    elif batch_result is not None:\n",
    "        \n",
    "            \n",
    "        time.sleep(.05)\n",
    "\n",
    "def func(i):\n",
    "    sq.put(sub_func(i))\n",
    "    sub_func(i)\n",
    "    return i\n",
    "\n",
    "results = []\n",
    "with PPE() as executor:\n",
    "    results = list(executor.map(func, range(10)))\n",
    "    \n",
    "results"
   ]
  },
  {
   "cell_type": "code",
   "execution_count": null,
   "metadata": {},
   "outputs": [],
   "source": []
  }
 ],
 "metadata": {
  "kernelspec": {
   "display_name": "Python 3",
   "language": "python",
   "name": "python3"
  },
  "language_info": {
   "codemirror_mode": {
    "name": "ipython",
    "version": 3
   },
   "file_extension": ".py",
   "mimetype": "text/x-python",
   "name": "python",
   "nbconvert_exporter": "python",
   "pygments_lexer": "ipython3",
   "version": "3.6.3"
  },
  "toc": {
   "nav_menu": {},
   "number_sections": true,
   "sideBar": true,
   "skip_h1_title": false,
   "toc_cell": false,
   "toc_position": {},
   "toc_section_display": "block",
   "toc_window_display": false
  }
 },
 "nbformat": 4,
 "nbformat_minor": 2
}
