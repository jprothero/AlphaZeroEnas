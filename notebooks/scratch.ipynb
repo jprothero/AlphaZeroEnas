{
 "cells": [
  {
   "cell_type": "code",
   "execution_count": 65,
   "metadata": {
    "ExecuteTime": {
     "end_time": "2018-04-25T13:35:11.103328Z",
     "start_time": "2018-04-25T13:35:11.099302Z"
    }
   },
   "outputs": [],
   "source": [
    "import numpy as np"
   ]
  },
  {
   "cell_type": "code",
   "execution_count": 66,
   "metadata": {
    "ExecuteTime": {
     "end_time": "2018-04-25T13:35:11.272133Z",
     "start_time": "2018-04-25T13:35:11.268035Z"
    }
   },
   "outputs": [],
   "source": [
    "search_probas1 = np.array([.4, .2, .6])\n",
    "policy1 = np.array([.5, .4, .1])"
   ]
  },
  {
   "cell_type": "code",
   "execution_count": 67,
   "metadata": {
    "ExecuteTime": {
     "end_time": "2018-04-25T13:35:11.428448Z",
     "start_time": "2018-04-25T13:35:11.424538Z"
    }
   },
   "outputs": [],
   "source": [
    "search_probas2 = np.array([.6, .1, .3])\n",
    "policy2 = np.array([.8, 1e-7, .2])"
   ]
  },
  {
   "cell_type": "code",
   "execution_count": 68,
   "metadata": {
    "ExecuteTime": {
     "end_time": "2018-04-25T13:35:11.618291Z",
     "start_time": "2018-04-25T13:35:11.610825Z"
    }
   },
   "outputs": [
    {
     "data": {
      "text/plain": [
       "((6,), (6,))"
      ]
     },
     "execution_count": 68,
     "metadata": {},
     "output_type": "execute_result"
    }
   ],
   "source": [
    "search_probas3 = np.concatenate([search_probas1, search_probas2], axis=0)\n",
    "policy3 = np.concatenate([policy1, policy2], axis=0)\n",
    "\n",
    "search_probas3.shape, policy3.shape"
   ]
  },
  {
   "cell_type": "code",
   "execution_count": 69,
   "metadata": {
    "ExecuteTime": {
     "end_time": "2018-04-25T13:35:12.038735Z",
     "start_time": "2018-04-25T13:35:12.033832Z"
    }
   },
   "outputs": [],
   "source": [
    "def matmul(s, p):\n",
    "    s = np.expand_dims(s, axis=0)\n",
    "    p = np.expand_dims(p, axis=-1)\n",
    "    \n",
    "    return -(s @ np.log(p))"
   ]
  },
  {
   "cell_type": "code",
   "execution_count": 73,
   "metadata": {
    "ExecuteTime": {
     "end_time": "2018-04-25T13:35:49.403859Z",
     "start_time": "2018-04-25T13:35:46.913387Z"
    }
   },
   "outputs": [
    {
     "name": "stdout",
     "output_type": "stream",
     "text": [
      "30.1 µs ± 121 ns per loop (mean ± std. dev. of 7 runs, 10000 loops each)\n"
     ]
    }
   ],
   "source": [
    "%timeit matmul(search_probas1, policy1) + matmul(search_probas2, policy2)"
   ]
  },
  {
   "cell_type": "code",
   "execution_count": 74,
   "metadata": {
    "ExecuteTime": {
     "end_time": "2018-04-25T13:35:56.998092Z",
     "start_time": "2018-04-25T13:35:55.705842Z"
    }
   },
   "outputs": [
    {
     "name": "stdout",
     "output_type": "stream",
     "text": [
      "14.9 µs ± 1.1 µs per loop (mean ± std. dev. of 7 runs, 10000 loops each)\n"
     ]
    }
   ],
   "source": [
    "%timeit matmul(search_probas3, policy3)"
   ]
  },
  {
   "cell_type": "code",
   "execution_count": 41,
   "metadata": {
    "ExecuteTime": {
     "end_time": "2018-04-25T13:29:25.012964Z",
     "start_time": "2018-04-25T13:29:25.008129Z"
    }
   },
   "outputs": [],
   "source": [
    "l1 = lambda s, p: -(s @ np.log(p))"
   ]
  },
  {
   "cell_type": "code",
   "execution_count": 42,
   "metadata": {
    "ExecuteTime": {
     "end_time": "2018-04-25T13:29:29.350774Z",
     "start_time": "2018-04-25T13:29:25.470905Z"
    }
   },
   "outputs": [
    {
     "name": "stdout",
     "output_type": "stream",
     "text": [
      "4.75 µs ± 82.8 ns per loop (mean ± std. dev. of 7 runs, 100000 loops each)\n"
     ]
    }
   ],
   "source": [
    "%timeit l1(search_probas1, policy1)"
   ]
  },
  {
   "cell_type": "code",
   "execution_count": 34,
   "metadata": {
    "ExecuteTime": {
     "end_time": "2018-04-25T13:26:53.243772Z",
     "start_time": "2018-04-25T13:26:53.237068Z"
    }
   },
   "outputs": [],
   "source": [
    "search_probas = np.array([.4, .2, .6])\n",
    "policy = np.array([.5, .4, .1])"
   ]
  },
  {
   "cell_type": "code",
   "execution_count": 43,
   "metadata": {
    "ExecuteTime": {
     "end_time": "2018-04-25T13:29:59.099956Z",
     "start_time": "2018-04-25T13:29:59.095743Z"
    }
   },
   "outputs": [],
   "source": [
    "l2 = lambda s, p: -(s * np.log(p)).sum()"
   ]
  },
  {
   "cell_type": "code",
   "execution_count": 44,
   "metadata": {
    "ExecuteTime": {
     "end_time": "2018-04-25T13:30:17.598141Z",
     "start_time": "2018-04-25T13:30:07.657464Z"
    }
   },
   "outputs": [
    {
     "name": "stdout",
     "output_type": "stream",
     "text": [
      "12.2 µs ± 22.1 ns per loop (mean ± std. dev. of 7 runs, 100000 loops each)\n"
     ]
    }
   ],
   "source": [
    "%timeit l2(search_probas, policy)"
   ]
  },
  {
   "cell_type": "code",
   "execution_count": 75,
   "metadata": {
    "ExecuteTime": {
     "end_time": "2018-04-25T15:55:28.607074Z",
     "start_time": "2018-04-25T15:55:28.602894Z"
    }
   },
   "outputs": [],
   "source": [
    "seen = dict()"
   ]
  },
  {
   "cell_type": "code",
   "execution_count": 77,
   "metadata": {
    "ExecuteTime": {
     "end_time": "2018-04-25T15:55:36.762097Z",
     "start_time": "2018-04-25T15:55:36.755221Z"
    }
   },
   "outputs": [
    {
     "data": {
      "text/plain": [
       "True"
      ]
     },
     "execution_count": 77,
     "metadata": {},
     "output_type": "execute_result"
    }
   ],
   "source": [
    "seen[1] = True\n"
   ]
  },
  {
   "cell_type": "code",
   "execution_count": 78,
   "metadata": {
    "ExecuteTime": {
     "end_time": "2018-04-25T15:57:33.651087Z",
     "start_time": "2018-04-25T15:57:33.291105Z"
    }
   },
   "outputs": [],
   "source": [
    "import torch"
   ]
  },
  {
   "cell_type": "code",
   "execution_count": 79,
   "metadata": {
    "ExecuteTime": {
     "end_time": "2018-04-25T15:57:43.416922Z",
     "start_time": "2018-04-25T15:57:43.412555Z"
    }
   },
   "outputs": [],
   "source": [
    "from torch import nn"
   ]
  },
  {
   "cell_type": "code",
   "execution_count": 88,
   "metadata": {
    "ExecuteTime": {
     "end_time": "2018-04-25T15:58:16.362637Z",
     "start_time": "2018-04-25T15:58:16.355957Z"
    }
   },
   "outputs": [
    {
     "data": {
      "text/plain": [
       "array(5)"
      ]
     },
     "execution_count": 88,
     "metadata": {},
     "output_type": "execute_result"
    }
   ],
   "source": [
    "nn.Parameter(torch.tensor(5)).data.numpy()"
   ]
  },
  {
   "cell_type": "code",
   "execution_count": 117,
   "metadata": {
    "ExecuteTime": {
     "end_time": "2018-04-25T16:47:31.412121Z",
     "start_time": "2018-04-25T16:47:31.407655Z"
    }
   },
   "outputs": [],
   "source": [
    "a = np.array([[i for i in range(3)]])"
   ]
  },
  {
   "cell_type": "code",
   "execution_count": 124,
   "metadata": {
    "ExecuteTime": {
     "end_time": "2018-04-25T18:32:25.171450Z",
     "start_time": "2018-04-25T18:32:25.164168Z"
    }
   },
   "outputs": [
    {
     "data": {
      "text/plain": [
       "array([3, 1])"
      ]
     },
     "execution_count": 124,
     "metadata": {},
     "output_type": "execute_result"
    }
   ],
   "source": [
    "a = np.array([1, 2, 3])\n",
    "indices = [2,0]\n",
    "a[indices]"
   ]
  },
  {
   "cell_type": "code",
   "execution_count": 113,
   "metadata": {
    "ExecuteTime": {
     "end_time": "2018-04-25T16:45:41.566835Z",
     "start_time": "2018-04-25T16:45:41.557640Z"
    }
   },
   "outputs": [
    {
     "data": {
      "text/plain": [
       "array([[1., 2., 3.]])"
      ]
     },
     "execution_count": 113,
     "metadata": {},
     "output_type": "execute_result"
    }
   ],
   "source": [
    "a = np.array([[.4, .5, .1]])\n",
    "# a = np.repeat(a, 3, axis=0)\n",
    "# a = np.transpose(a)\n",
    "\n",
    "b = np.ones(shape=(3, 3))\n",
    "b[0] = 1\n",
    "b[1] = 2\n",
    "b[2] = 3\n",
    "b = np.transpose(b)\n",
    "\n",
    "a @ b"
   ]
  },
  {
   "cell_type": "code",
   "execution_count": null,
   "metadata": {},
   "outputs": [],
   "source": []
  }
 ],
 "metadata": {
  "kernelspec": {
   "display_name": "Python 3",
   "language": "python",
   "name": "python3"
  },
  "language_info": {
   "codemirror_mode": {
    "name": "ipython",
    "version": 3
   },
   "file_extension": ".py",
   "mimetype": "text/x-python",
   "name": "python",
   "nbconvert_exporter": "python",
   "pygments_lexer": "ipython3",
   "version": "3.6.3"
  },
  "toc": {
   "nav_menu": {},
   "number_sections": true,
   "sideBar": true,
   "skip_h1_title": false,
   "toc_cell": false,
   "toc_position": {},
   "toc_section_display": "block",
   "toc_window_display": false
  }
 },
 "nbformat": 4,
 "nbformat_minor": 2
}
