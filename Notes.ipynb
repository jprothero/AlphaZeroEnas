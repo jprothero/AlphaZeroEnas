{
 "cells": [
  {
   "cell_type": "code",
   "execution_count": 3,
   "metadata": {
    "ExecuteTime": {
     "end_time": "2018-05-11T16:45:54.820316Z",
     "start_time": "2018-05-11T16:45:54.814664Z"
    }
   },
   "outputs": [],
   "source": [
    "#so where to go from here\n",
    "#It has some evidence that it trains, so I shouldnt abandon it by any means\n",
    "#it is based off of one of the most reputable and impressive AI algos\n",
    "#so I believe it's worth keeping\n",
    "\n",
    "\n",
    "#there are some interesting directions / things we need to fix:\n",
    "\n",
    "#Skips in the most dont work, and in general the flow of the algorithm doesnt give enough freedom\n",
    "#to the architecture design\n",
    "\n",
    "#i.e. we really need to allow arbitrary flow\n",
    "\n",
    "#we can copy what ENAS does and go through each node an pick a previous node,\n",
    "#basically it's a prior that we use all of the nodes available\n",
    "\n",
    "#ideally we would like an upper bound on what our computer can handle, and the network\n",
    "#picks the best option based on a trade off of performance/complexity or whatever\n",
    "\n",
    "#the parameters scaling kind of does that, although for groups for example it reduces the parameters\n",
    "#but increases computation time (and I think memory, not sure)"
   ]
  },
  {
   "cell_type": "code",
   "execution_count": 4,
   "metadata": {
    "ExecuteTime": {
     "end_time": "2018-05-11T16:46:22.111960Z",
     "start_time": "2018-05-11T16:46:22.103058Z"
    }
   },
   "outputs": [],
   "source": [
    "#so basically we need to restructure the design so it has more freedom"
   ]
  },
  {
   "cell_type": "code",
   "execution_count": 5,
   "metadata": {
    "ExecuteTime": {
     "end_time": "2018-05-11T16:49:45.348800Z",
     "start_time": "2018-05-11T16:49:45.343371Z"
    }
   },
   "outputs": [],
   "source": [
    "#Honestly I just want to get it to work and have a lot of freedom, then hopefully turn it on itself\n",
    "#for example, making a better controller, or better softmaxs\n",
    "\n",
    "#****\n",
    "#I would like to decouple embedding size from LSTM size\n",
    "#I think it may be desirable to bottleneck the embedding, but give the LSTM more capacity\n",
    "\n",
    "#so basically we would have an \"adapter\" layer that changes the embedding size to fit into the LSTM\n",
    "\n",
    "#does that make sense?\n",
    "\n",
    "#I think so... although if the LSTM is smaller I guess it doesnt make sense right?\n",
    "\n",
    "#if the LSTM is smaller than the embedding, it doesnt make sense because we are already bottlenecking the\n",
    "#ebmedding with the LSTM\n",
    "\n",
    "#if the embedding is smaller than the lstm, then this will make it so we arent forced to use a larger embedding\n",
    "#size than we want, which may force embeddings to become more similar, which is what we want"
   ]
  },
  {
   "cell_type": "code",
   "execution_count": 6,
   "metadata": {
    "ExecuteTime": {
     "end_time": "2018-05-11T16:50:38.625300Z",
     "start_time": "2018-05-11T16:50:38.621278Z"
    }
   },
   "outputs": [],
   "source": [
    "#So one of the key thing we need to look at is how to give the execution flow maximum power"
   ]
  },
  {
   "cell_type": "code",
   "execution_count": 7,
   "metadata": {
    "ExecuteTime": {
     "end_time": "2018-05-11T16:51:14.356865Z",
     "start_time": "2018-05-11T16:51:14.350799Z"
    }
   },
   "outputs": [],
   "source": [
    "#Basically, we want to give as much control as possible, and really open up neural networks\n",
    "#to be dynamic graphs, and have tree structures, etc\n",
    "\n",
    "#for that we need conditionals, branching, loops, maybe jumps, etc"
   ]
  },
  {
   "cell_type": "code",
   "execution_count": 8,
   "metadata": {
    "ExecuteTime": {
     "end_time": "2018-05-11T16:51:44.513565Z",
     "start_time": "2018-05-11T16:51:44.509107Z"
    }
   },
   "outputs": [],
   "source": [
    "# 1. A form of conditional repetition or conditional jump (while, for, if and goto)\n",
    "# 2. A way to read and write to some storage mechanism (variables)"
   ]
  },
  {
   "cell_type": "code",
   "execution_count": 9,
   "metadata": {
    "ExecuteTime": {
     "end_time": "2018-05-11T16:52:26.675596Z",
     "start_time": "2018-05-11T16:52:26.671597Z"
    }
   },
   "outputs": [],
   "source": [
    "#So basically we want to be able to allow the network to dynamically create new nodes, put them together, etc"
   ]
  },
  {
   "cell_type": "code",
   "execution_count": 10,
   "metadata": {
    "ExecuteTime": {
     "end_time": "2018-05-11T16:53:27.335166Z",
     "start_time": "2018-05-11T16:53:27.327441Z"
    }
   },
   "outputs": [],
   "source": [
    "#idea: what if we use the balanced examples idea to make it so that we can have sparse rewards"
   ]
  },
  {
   "cell_type": "code",
   "execution_count": 11,
   "metadata": {
    "ExecuteTime": {
     "end_time": "2018-05-11T16:58:04.627657Z",
     "start_time": "2018-05-11T16:58:04.622922Z"
    }
   },
   "outputs": [],
   "source": [
    "#Well of course the obvious thing is that we need to get the system working before we can justify many\n",
    "#further changes\n",
    "\n",
    "#we can give the system all the expressivity in the world, but if it cant train its all moot\n",
    "\n",
    "#the issue is I'm not sure how to do it, and I honestly dont know if I have hyperparameters slightly wrong,\n",
    "#or if this is impossible to do on CPU (decent probability), or what\n",
    "\n",
    "\n",
    "#I think for now I can probably try to get the spec to what ENAS had, i.e. we go through each of the nodes,\n",
    "#and we specify what the previous node would be (we would add one choice for this) and the activation is already\n",
    "#chosen\n",
    "\n",
    "#so it really would be as simple as that, what would the previous node be, and possible, what kind of interaction?\n",
    "#such as, is it a concat then bottleneck conv, add, average, mult, etc\n",
    "\n",
    "#and then we can also add the trick where we average the nodes that we're outputs to anything else"
   ]
  },
  {
   "cell_type": "code",
   "execution_count": 12,
   "metadata": {
    "ExecuteTime": {
     "end_time": "2018-05-11T17:31:57.537862Z",
     "start_time": "2018-05-11T17:31:57.533888Z"
    }
   },
   "outputs": [],
   "source": [
    "#well if you think about it right now we are just defining a basic feed forward, and it is using a kind of \n",
    "#attention skip mechanism (its probably bad)\n",
    "\n",
    "#what we really want to do is allow complex branching, recombing, etc\n",
    "\n",
    "#like we really want the traditional LSTM to be reachable for example\n",
    "\n",
    "#a good place to start is making something reachable"
   ]
  },
  {
   "cell_type": "code",
   "execution_count": 14,
   "metadata": {
    "ExecuteTime": {
     "end_time": "2018-05-11T17:38:40.028091Z",
     "start_time": "2018-05-11T17:38:40.023467Z"
    }
   },
   "outputs": [],
   "source": [
    "#So lets start by making a couple things I care about reachable:\n",
    "\n",
    "#First step would be forget gate only LSTM\n",
    "\n",
    "#For that we need matrix multiplies, i.e. linear layers, right?\n",
    "\n",
    "#can you represent a LSTM with linear layers?\n",
    "#I think so, a Linear is just a matrix\n",
    "#so in theory if you have linears you can have an LSTM\n",
    "#and since Yann LeCunn said that a Conv 1x1, just Convs should work too.\n",
    "\n",
    "# h = Linear(h-1, )"
   ]
  },
  {
   "cell_type": "code",
   "execution_count": 15,
   "metadata": {
    "ExecuteTime": {
     "end_time": "2018-05-11T17:43:58.759067Z",
     "start_time": "2018-05-11T17:43:58.755025Z"
    }
   },
   "outputs": [],
   "source": [
    "#so lets see\n",
    "\n",
    "#f_t = sigmoid(conv2d1x1(ht-1) + conv2d1x1(x_t))\n",
    "#c_t = f_t * c_t-1 + (1 - f_t) * tanh(conv...(ht-1) + conv(x_t))\n",
    "\n",
    "#so what is needed for that. For example we pick a previous node and an activation\n",
    "#so assuming ht-1 and x are nodes, we could do conv2d(x) -> (identity) -> + -> conv2d(h_t) -> (sigmoid)\n",
    "#issue: we face severe limitations, or overcomplication by doing this"
   ]
  },
  {
   "cell_type": "code",
   "execution_count": 16,
   "metadata": {
    "ExecuteTime": {
     "end_time": "2018-05-11T17:44:05.189200Z",
     "start_time": "2018-05-11T17:44:05.181503Z"
    }
   },
   "outputs": [],
   "source": [
    "#we really"
   ]
  },
  {
   "cell_type": "code",
   "execution_count": 17,
   "metadata": {
    "ExecuteTime": {
     "end_time": "2018-05-11T17:47:40.680110Z",
     "start_time": "2018-05-11T17:47:40.675816Z"
    }
   },
   "outputs": [],
   "source": [
    "#Okay well Ineed to think for a minute and plan my trajectory\n",
    "#One: I have a lot of work put into this AlphaZeroEnas thing.\n",
    "#Two: If it works, I will get a lot of fame, i.e. its useful and people want it.\n",
    "#Three: It is related to and therefore helps me learn about program synthesis, which is the ultimate goal\n",
    "\n",
    "#Out of all of the things I could practically think of for a self feedback loop (i.e. increasing my own\n",
    "#productivity), automatically creating optimized architectures (and hopefully hyperparameters) would be huge\n",
    "\n",
    "#The other one would be maybe debugging, but that is a much harder issue to tackle\n",
    "\n",
    "#Plus, the area is pretty well researched.\n",
    "\n",
    "#Honestly, I should improve AlphaZeroEnas as much as I can, maybe put it on the backburner and work on Yu's project\n",
    "#and then in the future when I have a good GPU I can refine it and write a paper.\n",
    "\n",
    "#For now I want to make sure the expressivity is to a point that I'm okay with though."
   ]
  },
  {
   "cell_type": "code",
   "execution_count": 18,
   "metadata": {
    "ExecuteTime": {
     "end_time": "2018-05-11T17:48:58.576515Z",
     "start_time": "2018-05-11T17:48:58.572475Z"
    }
   },
   "outputs": [],
   "source": [
    "#So yeah what kind of expressivity do I need to allow for what I want"
   ]
  },
  {
   "cell_type": "code",
   "execution_count": 19,
   "metadata": {
    "ExecuteTime": {
     "end_time": "2018-05-11T17:50:43.601337Z",
     "start_time": "2018-05-11T17:50:43.597483Z"
    }
   },
   "outputs": [],
   "source": [
    "#Lets do it piece by piece:\n",
    "#LSTM:\n",
    "\n",
    "#I need to access a previous output, and it may be convenient to extrapolate to having access to all previous outputs\n",
    "#downside: potentially high memory usage, and if we were going to allow attention over all of those for example,\n",
    "#it may create easy pitfalls for the system to get tripped up on\n",
    "\n",
    "#But at the very least, we want to all it to have access to the last output"
   ]
  },
  {
   "cell_type": "code",
   "execution_count": 20,
   "metadata": {
    "ExecuteTime": {
     "end_time": "2018-05-11T17:51:24.857682Z",
     "start_time": "2018-05-11T17:51:24.853656Z"
    }
   },
   "outputs": [],
   "source": [
    "#So I think I need to fundamentally redesign how I think about the flow of the program\n",
    "\n",
    "#It really should start looking more like a turing machine\n",
    "\n",
    "#1. A form of conditional repetition or conditional jump (while, for, if and goto)\n",
    "# 2. A way to read and write to some storage mechanism (variables)\n"
   ]
  },
  {
   "cell_type": "code",
   "execution_count": 21,
   "metadata": {
    "ExecuteTime": {
     "end_time": "2018-05-11T17:52:00.394389Z",
     "start_time": "2018-05-11T17:52:00.390140Z"
    }
   },
   "outputs": [],
   "source": [
    "#So that means, the network needs to be able to write to and read from a persistent memory (matrix)\n",
    "#For that we can allow the network to create..."
   ]
  },
  {
   "cell_type": "code",
   "execution_count": 22,
   "metadata": {
    "ExecuteTime": {
     "end_time": "2018-05-11T17:52:27.520936Z",
     "start_time": "2018-05-11T17:52:27.516848Z"
    }
   },
   "outputs": [],
   "source": [
    "#Well this gets to another interesting point.\n",
    "#Do we want to allow the system to be dynamic, or to lock it into a certain thing"
   ]
  },
  {
   "cell_type": "code",
   "execution_count": 23,
   "metadata": {
    "ExecuteTime": {
     "end_time": "2018-05-11T17:52:39.395645Z",
     "start_time": "2018-05-11T17:52:39.391297Z"
    }
   },
   "outputs": [],
   "source": [
    "#Maybe we can take the approach of pointer nets and dynamically expand as needed"
   ]
  },
  {
   "cell_type": "code",
   "execution_count": 24,
   "metadata": {
    "ExecuteTime": {
     "end_time": "2018-05-11T17:53:03.931351Z",
     "start_time": "2018-05-11T17:53:03.925320Z"
    }
   },
   "outputs": [],
   "source": [
    "#So for example this would come back to the example I thought of for the GAN MCTS for transitions rather than\n",
    "#policies"
   ]
  },
  {
   "cell_type": "code",
   "execution_count": 25,
   "metadata": {
    "ExecuteTime": {
     "end_time": "2018-05-11T17:54:30.555291Z",
     "start_time": "2018-05-11T17:54:30.549700Z"
    }
   },
   "outputs": [],
   "source": [
    "#We have a node which can choose to expand, or point to a previous choice"
   ]
  },
  {
   "cell_type": "code",
   "execution_count": 26,
   "metadata": {
    "ExecuteTime": {
     "end_time": "2018-05-11T17:54:40.042659Z",
     "start_time": "2018-05-11T17:54:40.038538Z"
    }
   },
   "outputs": [],
   "source": [
    "#We can kind of view the previous choices as variables"
   ]
  },
  {
   "cell_type": "code",
   "execution_count": 27,
   "metadata": {
    "ExecuteTime": {
     "end_time": "2018-05-11T17:55:21.051387Z",
     "start_time": "2018-05-11T17:55:21.047379Z"
    }
   },
   "outputs": [],
   "source": [
    "#Maybe a marrying of program synthesis ideas and architecture generation can result in something better than\n",
    "#the two.\n",
    "\n",
    "#I think I need more knowledge about the potential power of these types of algorithms\n",
    "\n",
    "#But for now lets try to work through it"
   ]
  },
  {
   "cell_type": "code",
   "execution_count": 28,
   "metadata": {
    "ExecuteTime": {
     "end_time": "2018-05-11T18:01:10.978658Z",
     "start_time": "2018-05-11T18:01:10.972399Z"
    }
   },
   "outputs": [],
   "source": [
    "#So basically the goal is that we want a type of turing complete, maximum from basics neural net"
   ]
  },
  {
   "cell_type": "code",
   "execution_count": 29,
   "metadata": {
    "ExecuteTime": {
     "end_time": "2018-05-11T18:02:02.037830Z",
     "start_time": "2018-05-11T18:02:02.033459Z"
    }
   },
   "outputs": [],
   "source": [
    "#To make it so that it doesnt fail due to shape mismatches and such, we should lock the system into a certain\n",
    "#configuration once it starts, unless there is an easy work around, such as padding, using 1x1 conv to combine,\n",
    "#etc"
   ]
  },
  {
   "cell_type": "code",
   "execution_count": 30,
   "metadata": {
    "ExecuteTime": {
     "end_time": "2018-05-11T18:03:51.682599Z",
     "start_time": "2018-05-11T18:03:51.677989Z"
    }
   },
   "outputs": [],
   "source": [
    "# 1. A form of conditional repetition or conditional jump (while, for, if and goto)\n",
    "# 2. A way to read and write to some storage mechanism (variables)\n",
    "\n",
    "#so for example, we want to allow the system to continue until it reaches a certain number of iterations\n",
    "#or a certain size (certian upper bounds that we limit it to)\n",
    "\n",
    "#we want the system to be dynamic so that it can can choose to create anything as in needs\n",
    "\n",
    "#but the question is, if we're using upper bounds anyways, it could be static, and then system merely will\n",
    "#choose what portion of the network we are utilizing"
   ]
  },
  {
   "cell_type": "code",
   "execution_count": 31,
   "metadata": {
    "ExecuteTime": {
     "end_time": "2018-05-11T18:05:30.838146Z",
     "start_time": "2018-05-11T18:05:30.834317Z"
    }
   },
   "outputs": [],
   "source": [
    "#One thing I always thought was interesting was trying to emulate the brain structure\n",
    "\n",
    "#I.e. imagine all of the neurons are one giant matrix, and the system determines how they are connected together\n",
    "\n",
    "#i.e. it uses a set of operations over those numbers to accomplish some task"
   ]
  },
  {
   "cell_type": "code",
   "execution_count": 32,
   "metadata": {
    "ExecuteTime": {
     "end_time": "2018-05-11T18:07:46.697058Z",
     "start_time": "2018-05-11T18:07:46.691858Z"
    }
   },
   "outputs": [],
   "source": [
    "#so for example lets say we give it access to all of the basic pytorch tensor actions, such as \n",
    "#matrix multiply and elementwise operations (there are certainly more but this is okay for now)\n",
    "\n",
    "#Then the system basically samples a subset of the nodes. We want a certain level of sparsity\n",
    "#so for example, lets say we want 1% sparsity for a brain of size 100x100\n",
    "\n",
    "#so we have 10000 numbers in total, and we would only pick on average 100 for a given operation\n",
    "\n",
    "#so basically we have a big matrix of numbers, i.e. some Parameter(tensor(100, 100))"
   ]
  },
  {
   "cell_type": "code",
   "execution_count": 33,
   "metadata": {
    "ExecuteTime": {
     "end_time": "2018-05-11T18:08:35.135893Z",
     "start_time": "2018-05-11T18:08:35.131857Z"
    }
   },
   "outputs": [],
   "source": [
    "#Then we randomly sample a mask over it...\n",
    "#Issue: Outputing that size of a matrix (if we make the amount of numbers much larger) isn't possible"
   ]
  },
  {
   "cell_type": "code",
   "execution_count": 34,
   "metadata": {
    "ExecuteTime": {
     "end_time": "2018-05-11T18:09:34.478509Z",
     "start_time": "2018-05-11T18:09:34.474663Z"
    }
   },
   "outputs": [],
   "source": [
    "#we have to go back to the dynamics of the brain. it appears to act locally, and maybe there is a \"controller\"\n",
    "#that surpresses or encourages certain areas\n",
    "\n",
    "#We could kind of view that as attention\n",
    "\n",
    "#So the \"consciousness\" is attending to processes that are important at a given time"
   ]
  },
  {
   "cell_type": "code",
   "execution_count": 35,
   "metadata": {
    "ExecuteTime": {
     "end_time": "2018-05-11T18:10:05.280422Z",
     "start_time": "2018-05-11T18:10:05.274587Z"
    }
   },
   "outputs": [],
   "source": [
    "#But at the end of the day, its a bunch of neurons that are connected sparsely, and they interact to\n",
    "#do certain functions."
   ]
  },
  {
   "cell_type": "code",
   "execution_count": 36,
   "metadata": {
    "ExecuteTime": {
     "end_time": "2018-05-11T18:12:11.063493Z",
     "start_time": "2018-05-11T18:12:11.059108Z"
    }
   },
   "outputs": [],
   "source": [
    "#So for example what if we got a list of neurons [5, 3, 6] and assigned them to variable 1\n",
    "#and we got another list of neurons [9, 1, 2] and assigned them to variable 2\n",
    "#then we matrix multiplied them (it automatically reshapes if possible)\n",
    "\n",
    "#and we compare that result to the real output, perhaps we have a fixed \n",
    "#\"head\" that we refer back to, and constrains the output to a certain size"
   ]
  },
  {
   "cell_type": "code",
   "execution_count": 37,
   "metadata": {
    "ExecuteTime": {
     "end_time": "2018-05-11T18:12:42.280513Z",
     "start_time": "2018-05-11T18:12:42.276353Z"
    }
   },
   "outputs": [],
   "source": [
    "#So the idea is basically rather than having different layers that we fit together, we just have one big\n",
    "#matrix, that we sample from to perform certain actions"
   ]
  },
  {
   "cell_type": "code",
   "execution_count": 38,
   "metadata": {
    "ExecuteTime": {
     "end_time": "2018-05-11T18:13:46.808563Z",
     "start_time": "2018-05-11T18:13:46.804881Z"
    }
   },
   "outputs": [],
   "source": [
    "#And the idea I have basically is that the controller picks a bunch of paths through the neurons,\n",
    "#i.e. we do some batch UCT select, or many different processes each picking a neuron, then we group those together\n",
    "#and they get combined at the end"
   ]
  },
  {
   "cell_type": "code",
   "execution_count": 39,
   "metadata": {
    "ExecuteTime": {
     "end_time": "2018-05-11T18:14:09.528387Z",
     "start_time": "2018-05-11T18:14:09.523806Z"
    }
   },
   "outputs": [],
   "source": [
    "#but we need interactions from many different neurons\n",
    "#So yeah in theory we want to do..."
   ]
  },
  {
   "cell_type": "code",
   "execution_count": 40,
   "metadata": {
    "ExecuteTime": {
     "end_time": "2018-05-11T18:15:49.704355Z",
     "start_time": "2018-05-11T18:15:49.700530Z"
    }
   },
   "outputs": [],
   "source": [
    "#So lets think for a bit. What do we want\n",
    "#We want to test on something, such as cifar10\n",
    "#for that we will need to require that the input is (batch_size, 3, 32, 32) and that the output is 10\n",
    "#So basically I think we would have a stem which matches that size, and then flattens,\n",
    "#and we would have a output which goes in and takes that same flattened size"
   ]
  },
  {
   "cell_type": "code",
   "execution_count": 41,
   "metadata": {
    "ExecuteTime": {
     "end_time": "2018-05-11T18:16:34.730726Z",
     "start_time": "2018-05-11T18:16:34.726856Z"
    }
   },
   "outputs": [],
   "source": [
    "#That would put a requirement that all of the operation inside used that same \"flattened\" number of neurons\n",
    "#Which is less than idea, but coudl work. Also we can bottleneck the flattened number to make it smaller"
   ]
  },
  {
   "cell_type": "code",
   "execution_count": 42,
   "metadata": {
    "ExecuteTime": {
     "end_time": "2018-05-11T18:17:41.354002Z",
     "start_time": "2018-05-11T18:17:41.349437Z"
    }
   },
   "outputs": [],
   "source": [
    "#So basically what we're thinkg about is the middle part, i.e. we have one big matrix of neurons, and we \n",
    "#random select some to interact with others. i.e. any differentiable operation between them, and perhaps for now\n",
    "#recurrence is prevented, we want it though so we can consider it."
   ]
  },
  {
   "cell_type": "code",
   "execution_count": 43,
   "metadata": {
    "ExecuteTime": {
     "end_time": "2018-05-11T18:18:09.623448Z",
     "start_time": "2018-05-11T18:18:09.619933Z"
    }
   },
   "outputs": [],
   "source": [
    "#so the idea is that the two neurons sampled will be the same size"
   ]
  },
  {
   "cell_type": "code",
   "execution_count": 44,
   "metadata": {
    "ExecuteTime": {
     "end_time": "2018-05-11T18:18:38.538254Z",
     "start_time": "2018-05-11T18:18:38.532238Z"
    }
   },
   "outputs": [],
   "source": [
    "#and basically we need to allow them to interact in different ways\n",
    "#so they can add together, multiply, matrix multiply, etc"
   ]
  },
  {
   "cell_type": "code",
   "execution_count": 45,
   "metadata": {
    "ExecuteTime": {
     "end_time": "2018-05-11T18:18:53.833923Z",
     "start_time": "2018-05-11T18:18:53.830422Z"
    }
   },
   "outputs": [],
   "source": [
    "#Well we have to consider theres a difference between weights and neurons"
   ]
  },
  {
   "cell_type": "code",
   "execution_count": 46,
   "metadata": {
    "ExecuteTime": {
     "end_time": "2018-05-11T18:19:40.769311Z",
     "start_time": "2018-05-11T18:19:40.764997Z"
    }
   },
   "outputs": [],
   "source": [
    "#But they are represented in their weights, no?\n",
    "#the \"brain\" is a series of weights\n",
    "\n",
    "#so basically we are passing along an input from a sensor (image data)\n",
    "#and we are transforming it with matrix operations"
   ]
  },
  {
   "cell_type": "code",
   "execution_count": 47,
   "metadata": {
    "ExecuteTime": {
     "end_time": "2018-05-11T18:20:38.368422Z",
     "start_time": "2018-05-11T18:20:38.364676Z"
    }
   },
   "outputs": [],
   "source": [
    "#idea: what if we applied alphazero to determine the behavior of a single neuron\n",
    "#and then we replicate that behavior between many and do a random search (or alpha zero)?"
   ]
  },
  {
   "cell_type": "code",
   "execution_count": 48,
   "metadata": {
    "ExecuteTime": {
     "end_time": "2018-05-11T18:21:48.237094Z",
     "start_time": "2018-05-11T18:21:48.230816Z"
    }
   },
   "outputs": [],
   "source": [
    "#so for example lets say the alpha zero determines a bias and an initialization for a \"neuron\"\n",
    "#how would it even do that lol. it's sequential. I can do a GAN alpha zero maybe, but that isn't quite the same\n",
    "#it isn't using UCT"
   ]
  },
  {
   "cell_type": "code",
   "execution_count": 49,
   "metadata": {
    "ExecuteTime": {
     "end_time": "2018-05-11T18:28:14.551971Z",
     "start_time": "2018-05-11T18:28:14.545458Z"
    }
   },
   "outputs": [],
   "source": [
    "#Let me step back for a minute and think about what I'd like to research and what I would ideally like to happen\n",
    "\n",
    "#Step one: make an efficient architecture search and at least use it to simplify future research\n",
    "\n",
    "#Step two: look into meta learning so that we dont have to retrain from scratch every time, and we can have more\n",
    "#personalization, rather than averagin among everyone\n",
    "\n",
    "#STep three: We want to overcome backprop. It probably isnt what the brain uses, and limits us to a small\n",
    "#subset of functions, because it has to be differentiable. We really want more of a \"chaotic\" disconnected\n",
    "#approach. The issue with sequential planning is that it becomes like exponentially harder to predict.\n",
    "#and it also is very costly\n",
    "\n",
    "#it is essential in some aspects, but the brain isn't coordinating everything, intelligence emerges from\n",
    "#individual interactions. well that said we dont really know. We are only aware of what our consciousness is\n",
    "#aware of, and there are plenty of processes that happen without our control. So really DNA has set a framework\n",
    "#and the brain is interacting with those components. There generalization between the two is that they both adapt\n",
    "#to meet the requirements of their environment, i.e. DNA that is more fit will replicate, brains that are more\n",
    "#fit will replicate. so where are we going with this. At the end of the day, we dont have DNA, we need something\n",
    "#that looks at a value, and tries to get that value perfect, for example a GAN does that, it sees what makes something\n",
    "#good or bad, then it tries to get the generator to make the bad better so that the discrim cant tell the difference\n",
    "\n",
    "#The key insight of Alpha Zero is focusing on a subset of the possible domain which is promising,\n",
    "#i.e. we are biased towards looking at future with high value, and following the policy we imagined before\n",
    "#and it explores in a theoretically principled way using UCT"
   ]
  },
  {
   "cell_type": "code",
   "execution_count": 50,
   "metadata": {
    "ExecuteTime": {
     "end_time": "2018-05-11T18:29:26.415545Z",
     "start_time": "2018-05-11T18:29:26.411068Z"
    }
   },
   "outputs": [],
   "source": [
    "#The question for example is how could we overcome backprop\n",
    "#Basically we would need to create a set of mathematical operations such that given a set of operations,\n",
    "#we change the parameters involved so that they will solve the problem"
   ]
  },
  {
   "cell_type": "code",
   "execution_count": 51,
   "metadata": {
    "ExecuteTime": {
     "end_time": "2018-05-11T18:30:11.796230Z",
     "start_time": "2018-05-11T18:30:11.792300Z"
    }
   },
   "outputs": [],
   "source": [
    "#So for example maybe we could have a network that does that. If it remembers well enough\n",
    "#It can go through a set of operations, track history from each of them, and then learn an update to the\n",
    "#parameters with a backward pass"
   ]
  },
  {
   "cell_type": "code",
   "execution_count": 52,
   "metadata": {
    "ExecuteTime": {
     "end_time": "2018-05-11T18:30:34.772478Z",
     "start_time": "2018-05-11T18:30:34.767899Z"
    }
   },
   "outputs": [],
   "source": [
    "#So basically the idea would be to learn a function approximation of a better function approximation"
   ]
  },
  {
   "cell_type": "code",
   "execution_count": 53,
   "metadata": {
    "ExecuteTime": {
     "end_time": "2018-05-11T18:31:16.301516Z",
     "start_time": "2018-05-11T18:31:16.291279Z"
    }
   },
   "outputs": [],
   "source": [
    "#And you probably could train that with a GAN or something, i.e. guess the performance of the network after the update\n",
    "#then have the generator create parameters such that they are close to perfect performance"
   ]
  },
  {
   "cell_type": "code",
   "execution_count": 54,
   "metadata": {
    "ExecuteTime": {
     "end_time": "2018-05-11T18:32:14.397403Z",
     "start_time": "2018-05-11T18:32:14.393863Z"
    }
   },
   "outputs": [],
   "source": [
    "#Is there a way to do it asychronously?\n",
    "#Well my understanding with the brain"
   ]
  },
  {
   "cell_type": "code",
   "execution_count": 55,
   "metadata": {
    "ExecuteTime": {
     "end_time": "2018-05-11T18:32:57.874597Z",
     "start_time": "2018-05-11T18:32:57.865587Z"
    }
   },
   "outputs": [],
   "source": [
    "#Well what's clear with the brain, unless we are very wrong on the theory,\n",
    "#is that everything happens asychnronously.\n",
    "#i.e. we dont wait for one thing to happen before the next, all neurons are just firing whenever"
   ]
  },
  {
   "cell_type": "code",
   "execution_count": 56,
   "metadata": {
    "ExecuteTime": {
     "end_time": "2018-05-11T18:34:21.325204Z",
     "start_time": "2018-05-11T18:34:21.321576Z"
    }
   },
   "outputs": [],
   "source": [
    "#My understanding is that they arent clear if it's a message encoding, based on the order of the firing,\n",
    "#or if it's frequency based, based on the how quickly a connection is firing, it seems like it would more be\n",
    "#based on the magnitude of the output, but probably they found that all of them fire with the same magnitude"
   ]
  },
  {
   "cell_type": "code",
   "execution_count": 57,
   "metadata": {
    "ExecuteTime": {
     "end_time": "2018-05-11T18:34:32.624866Z",
     "start_time": "2018-05-11T18:34:32.617316Z"
    }
   },
   "outputs": [],
   "source": [
    "#frequency vs message"
   ]
  },
  {
   "cell_type": "code",
   "execution_count": 58,
   "metadata": {
    "ExecuteTime": {
     "end_time": "2018-05-11T18:35:27.525627Z",
     "start_time": "2018-05-11T18:35:27.522268Z"
    }
   },
   "outputs": [],
   "source": [
    "#Message would basically mean that the brain develops patterns such that when certain messages are come accross\n",
    "#A certain chain reaction is taking placing"
   ]
  },
  {
   "cell_type": "code",
   "execution_count": 59,
   "metadata": {
    "ExecuteTime": {
     "end_time": "2018-05-11T18:36:45.182258Z",
     "start_time": "2018-05-11T18:36:45.177933Z"
    }
   },
   "outputs": [],
   "source": [
    "#Personally it seems like it would be a lot harder to balance the message passing\n",
    "#because one or two switched orders could totally mess up the message"
   ]
  },
  {
   "cell_type": "code",
   "execution_count": 60,
   "metadata": {
    "ExecuteTime": {
     "end_time": "2018-05-11T18:38:10.265271Z",
     "start_time": "2018-05-11T18:38:10.261238Z"
    }
   },
   "outputs": [],
   "source": [
    "#The frequency thing makes more sense to me\n",
    "#And probably there's a different bias to each connection maybe?\n",
    "#so like each connection from the different neurons have different indicators, like for example,\n",
    "#maybe a certain connection indicates fear\n",
    "\n",
    "#Like what if we had a turing complete machine that had a set of primitives"
   ]
  },
  {
   "cell_type": "code",
   "execution_count": 61,
   "metadata": {
    "ExecuteTime": {
     "end_time": "2018-05-11T18:39:23.600599Z",
     "start_time": "2018-05-11T18:39:23.597029Z"
    }
   },
   "outputs": [],
   "source": [
    "#So the inputs that take all of the neurons in learn different things from the different neurons\n",
    "#so for example, its the degree of something, such as the degree of fear,\n",
    "#and each connection is a different emotion or what have you"
   ]
  },
  {
   "cell_type": "code",
   "execution_count": 62,
   "metadata": {
    "ExecuteTime": {
     "end_time": "2018-05-11T18:40:35.751832Z",
     "start_time": "2018-05-11T18:40:35.747771Z"
    }
   },
   "outputs": [],
   "source": [
    "#Well if deep learning has showed anything (which is it the best approximation of the brain we have)\n",
    "#its that the brain adapts over time to meet it's needs, and there are preprogrammed needs from DNA\n",
    "#built in, i.e. the eyes"
   ]
  },
  {
   "cell_type": "code",
   "execution_count": 63,
   "metadata": {
    "ExecuteTime": {
     "end_time": "2018-05-11T18:42:29.115202Z",
     "start_time": "2018-05-11T18:42:29.110691Z"
    }
   },
   "outputs": [],
   "source": [
    "#so basically we have a system that takes in input, has intrinsic goals (which were specified by their environment\n",
    "#through survival of the fittest)\n",
    "#so things that are advantageous will be passed on \n",
    "#so the precise subgoals and submethods will be adapted to the task at hand\n",
    "\n",
    "#but again we get to how would we replace backprop\n",
    "#basically the idea is build a backprop replacement net\n",
    "#but if we do that we want to make it more like the brain and ideally non differentiable"
   ]
  },
  {
   "cell_type": "code",
   "execution_count": 65,
   "metadata": {
    "ExecuteTime": {
     "end_time": "2018-05-11T18:43:17.270679Z",
     "start_time": "2018-05-11T18:43:17.266599Z"
    }
   },
   "outputs": [],
   "source": [
    "#and ideally what we really want is to have a differentiable net make a non differentiable one that is better,\n",
    "#and then recursively call that until we have AGI, or at least a pretty strong non differentiable training algo"
   ]
  },
  {
   "cell_type": "code",
   "execution_count": null,
   "metadata": {},
   "outputs": [],
   "source": []
  },
  {
   "cell_type": "code",
   "execution_count": null,
   "metadata": {},
   "outputs": [],
   "source": []
  },
  {
   "cell_type": "code",
   "execution_count": 66,
   "metadata": {
    "ExecuteTime": {
     "end_time": "2018-05-11T18:55:13.998419Z",
     "start_time": "2018-05-11T18:55:13.994308Z"
    }
   },
   "outputs": [],
   "source": [
    "#So yeah I'm getting super ahead of myself\n",
    "#What do I really want: Less f'ing around with arch designs and less hyperparameter tweaking\n",
    "#I think alpha zero combined with ENAS can fix both of those"
   ]
  },
  {
   "cell_type": "code",
   "execution_count": 67,
   "metadata": {
    "ExecuteTime": {
     "end_time": "2018-05-11T18:59:22.360776Z",
     "start_time": "2018-05-11T18:59:22.356197Z"
    }
   },
   "outputs": [],
   "source": [
    "#So there are two ideas I want to consider:\n",
    "#1. Having the arch designer make a new arch designer and use that new arch designers averaged scores as \n",
    "#the reward signal for the first arch designer\n",
    "\n",
    "#2. Converting the systems own hyperparameters to being chosen by the system itself\n",
    "#So for example with number of sims, we would predict a prior over how many sims we want to do\n",
    "#and we would predict a value for what score we think we will get with that many sims\n",
    "#and we would want to scale the score by how many sims we have\n",
    "#so for example, maybe we do something similar to the parameter scaling, where we scale the num sims between\n",
    "#0 and 1, and then scale it to whatever weight we want, for example 10%\n",
    "#then if the for example 10 extra sims out of 10 max sims doesnt benefit....\n",
    "\n",
    "# 100% would mean each sim needs to generate at least a 1% improvement for 100 sims"
   ]
  },
  {
   "cell_type": "code",
   "execution_count": 68,
   "metadata": {
    "ExecuteTime": {
     "end_time": "2018-05-11T18:59:37.311234Z",
     "start_time": "2018-05-11T18:59:37.302218Z"
    }
   },
   "outputs": [],
   "source": [
    "#Idk I can think about it and think about the weights, but yeah"
   ]
  },
  {
   "cell_type": "code",
   "execution_count": 69,
   "metadata": {
    "ExecuteTime": {
     "end_time": "2018-05-11T19:01:13.000288Z",
     "start_time": "2018-05-11T19:01:12.995856Z"
    }
   },
   "outputs": [],
   "source": [
    "#What else, the learning rate can be handled by fastai\n",
    "#the batchsize is related to learning rate so that can be fastai\n",
    "#number of memories maybe? so we can predict the memory size, predict the score based on that, etc.\n",
    "#some other ones could be num_train_iters\n",
    "#but for that, again probably more train iters would mean a higher score, so probably again we want a \n",
    "#divisor based on that\n",
    "\n",
    "#maybe we could also predict a balance between "
   ]
  },
  {
   "cell_type": "code",
   "execution_count": 70,
   "metadata": {
    "ExecuteTime": {
     "end_time": "2018-05-11T19:04:12.913939Z",
     "start_time": "2018-05-11T19:04:12.909810Z"
    }
   },
   "outputs": [],
   "source": [
    "#Some hyperparameters we may want to have the system predict:\n",
    "\n",
    "#Num sims, and divide score by number of sims to prevent always max\n",
    "#max_memories\n",
    "#num_train_iters, would need to divide to prevent always max\n",
    "#arch_train_batch_size, arch_train_learning_rate, possibly momentum\n",
    "#it would be nice to predict the things for a cylical LR, maybe would allow super convergence"
   ]
  },
  {
   "cell_type": "code",
   "execution_count": 71,
   "metadata": {
    "ExecuteTime": {
     "end_time": "2018-05-11T19:05:08.795192Z",
     "start_time": "2018-05-11T19:05:08.791119Z"
    }
   },
   "outputs": [],
   "source": [
    "#Having the system predict it's own learning rate and such would also be very interesting"
   ]
  },
  {
   "cell_type": "code",
   "execution_count": 72,
   "metadata": {
    "ExecuteTime": {
     "end_time": "2018-05-11T19:07:31.388420Z",
     "start_time": "2018-05-11T19:07:31.383755Z"
    }
   },
   "outputs": [],
   "source": [
    "#So basically the idea is have the system predict all it's and the arch's hyperparmeters\n",
    "#One issue is that if the controller blows (like at the start), the learning rate being f'd up\n",
    "#will mess things up a lot\n",
    "\n",
    "#We could maybe have a hand tweaked controller, then have it take over?\n",
    "#or maybe we can just let it jostle around and gradient clip it.\n",
    "#I think that might be fine\n",
    "#we want it to be a bit chaotic, then settle into being a flow"
   ]
  },
  {
   "cell_type": "code",
   "execution_count": 73,
   "metadata": {
    "ExecuteTime": {
     "end_time": "2018-05-11T19:08:31.886910Z",
     "start_time": "2018-05-11T19:08:31.883247Z"
    }
   },
   "outputs": [],
   "source": [
    "#So anyways where did we get with all of this thinking\n",
    "#basically: I hate hyperparameter tuning and arch design, and I think it's a waste of time\n",
    "#I would like to make the system do all of it.\n",
    "#So I would like to for one,"
   ]
  },
  {
   "cell_type": "code",
   "execution_count": 74,
   "metadata": {
    "ExecuteTime": {
     "end_time": "2018-05-11T19:08:56.310960Z",
     "start_time": "2018-05-11T19:08:56.306701Z"
    }
   },
   "outputs": [],
   "source": [
    "#Well lets see, I wanted to think about the idea of having a proxy controller, i.e. a controller that designs\n",
    "#a controller that designs an architecture "
   ]
  },
  {
   "cell_type": "code",
   "execution_count": 75,
   "metadata": {
    "ExecuteTime": {
     "end_time": "2018-05-11T19:10:59.343394Z",
     "start_time": "2018-05-11T19:10:59.337197Z"
    }
   },
   "outputs": [],
   "source": [
    "#We ideally want the two to have the same interface for designs architectures so that we can interchange them\n",
    "#the benefit is that for certain things, such as choosing the number of layers to use, we can \n",
    "#have the other controller determine that, and then when it's not applicable we skip it\n",
    "\n",
    "#so it basically we open up another level of control over the hyperparameter choinces. oh yeah, and\n",
    "#of course the LSTM design, softmax design, embedding design, etc,"
   ]
  },
  {
   "cell_type": "code",
   "execution_count": 76,
   "metadata": {
    "ExecuteTime": {
     "end_time": "2018-05-11T19:11:34.815099Z",
     "start_time": "2018-05-11T19:11:34.811425Z"
    }
   },
   "outputs": [],
   "source": [
    "#Now the obvious question is that the algorithm I have right now is no where near robust enough to change everything\n",
    "#we at the very least would need to..."
   ]
  },
  {
   "cell_type": "code",
   "execution_count": 77,
   "metadata": {
    "ExecuteTime": {
     "end_time": "2018-05-11T19:16:03.183763Z",
     "start_time": "2018-05-11T19:16:03.179773Z"
    }
   },
   "outputs": [],
   "source": [
    "#Well honestly one thing Ive noticed is that I'm just making a system to make sequential decisions! \n",
    "#It doesnt really matter if its for an architecture or whatever"
   ]
  },
  {
   "cell_type": "code",
   "execution_count": 78,
   "metadata": {
    "ExecuteTime": {
     "end_time": "2018-05-11T19:16:28.680594Z",
     "start_time": "2018-05-11T19:16:28.676358Z"
    }
   },
   "outputs": [],
   "source": [
    "#So yeah I need to consider about the end goal here:\n",
    "#The end goal is not just to make an architecture designer, its to make one that makes better ones!"
   ]
  },
  {
   "cell_type": "code",
   "execution_count": 79,
   "metadata": {
    "ExecuteTime": {
     "end_time": "2018-05-11T19:18:01.104703Z",
     "start_time": "2018-05-11T19:18:01.099747Z"
    }
   },
   "outputs": [],
   "source": [
    "#So we have the insight that we can choose any decision where we get a signal back\n",
    "#And basically anything that will influence the final score can be trained\n",
    "#so for example, all of the arch hyperparameters will effect the score,\n",
    "#and then all of the controller hyperparameters will through causality effect the arch"
   ]
  },
  {
   "cell_type": "code",
   "execution_count": 80,
   "metadata": {
    "ExecuteTime": {
     "end_time": "2018-05-11T19:18:25.849120Z",
     "start_time": "2018-05-11T19:18:25.843817Z"
    }
   },
   "outputs": [],
   "source": [
    "#for decisions where more is almost always better, we need a system where we balance performance/resources"
   ]
  },
  {
   "cell_type": "code",
   "execution_count": 81,
   "metadata": {
    "ExecuteTime": {
     "end_time": "2018-05-11T19:20:20.921193Z",
     "start_time": "2018-05-11T19:20:20.916558Z"
    }
   },
   "outputs": [],
   "source": [
    "#It would be nice to have a principled way to do this\n",
    "#so for example, for number of sims, a reasonable number of sims might be between 10-100\n",
    "#and basically we could set the max to be 100, and scale the 0-1 based on the max\n",
    "#so for example, maybe it = 0-1 /max\n",
    "#so the larger max is, the smaller the scaler is\n",
    "#that intuitively kind of makes sense, where if we can do 3 sims, the effect per sim better be a lot bigger rather\n",
    "#than if we are doing 1000 sims"
   ]
  },
  {
   "cell_type": "code",
   "execution_count": 82,
   "metadata": {
    "ExecuteTime": {
     "end_time": "2018-05-11T19:22:50.830108Z",
     "start_time": "2018-05-11T19:22:50.821436Z"
    }
   },
   "outputs": [],
   "source": [
    "#and probably we could do something like log(max) or log(log(max))\n",
    "#or perhaps for example, while divisor >= 1: log(divisor)"
   ]
  },
  {
   "cell_type": "code",
   "execution_count": 138,
   "metadata": {
    "ExecuteTime": {
     "end_time": "2018-05-11T19:29:10.157337Z",
     "start_time": "2018-05-11T19:29:10.149751Z"
    }
   },
   "outputs": [
    {
     "data": {
      "text/plain": [
       "0.010348171289556268"
      ]
     },
     "execution_count": 138,
     "metadata": {},
     "output_type": "execute_result"
    }
   ],
   "source": [
    "import math\n",
    "1/math.log(10000, 1.1) #SO I think this is saying basically we would need a 2.1% increase per unit to justify it\n",
    "#which seems fairly reasonable\n",
    "#for this it would \n",
    "#so basically we can / by log(N, 1<base<2, probably ~1.1)"
   ]
  },
  {
   "cell_type": "code",
   "execution_count": 139,
   "metadata": {
    "ExecuteTime": {
     "end_time": "2018-05-11T19:30:13.159872Z",
     "start_time": "2018-05-11T19:30:13.155347Z"
    }
   },
   "outputs": [],
   "source": [
    "#So anyways getting back tothe key idea:\n",
    "#We are predicting a series of decisions, i.e. some general hyperparameters, they can be whatever\n",
    "#So basically any question we have, such as number of layers, number of hidden units, bottle neck units,\n",
    "#controller layers, etc, can be put in there"
   ]
  },
  {
   "cell_type": "code",
   "execution_count": 140,
   "metadata": {
    "ExecuteTime": {
     "end_time": "2018-05-11T19:30:49.285316Z",
     "start_time": "2018-05-11T19:30:49.281565Z"
    }
   },
   "outputs": [],
   "source": [
    "#Applying it back to architecture search takes some tinkering\n",
    "#I.e. at the end of the day we need to structure those decisions such that they can be used to make\n",
    "#an architecture, such as what I have right now"
   ]
  },
  {
   "cell_type": "code",
   "execution_count": 141,
   "metadata": {
    "ExecuteTime": {
     "end_time": "2018-05-11T19:31:45.686499Z",
     "start_time": "2018-05-11T19:31:45.682079Z"
    }
   },
   "outputs": [],
   "source": [
    "#So I cant really predict a whole series of decisions and how they wire together, \n",
    "#unless I present the system with all of the choices, which will be a combinatorial explosion"
   ]
  },
  {
   "cell_type": "code",
   "execution_count": 142,
   "metadata": {
    "ExecuteTime": {
     "end_time": "2018-05-11T19:32:11.124841Z",
     "start_time": "2018-05-11T19:32:11.115362Z"
    }
   },
   "outputs": [],
   "source": [
    "#Rather for example we can design a system that fits into an input and an output\n",
    "#and have the system design anything using that."
   ]
  },
  {
   "cell_type": "code",
   "execution_count": 143,
   "metadata": {
    "ExecuteTime": {
     "end_time": "2018-05-11T19:33:19.829303Z",
     "start_time": "2018-05-11T19:33:19.825019Z"
    }
   },
   "outputs": [],
   "source": [
    "#So for example we can choose if we want to coadapt the components (probably best)\n",
    "#We will generate an architecture matching each of those specifications (input and output matching)\n",
    "#and then we will judge it how we do right now"
   ]
  },
  {
   "cell_type": "code",
   "execution_count": 144,
   "metadata": {
    "ExecuteTime": {
     "end_time": "2018-05-11T19:34:09.190588Z",
     "start_time": "2018-05-11T19:34:09.186833Z"
    }
   },
   "outputs": [],
   "source": [
    "#So basically we would have a decision making controller, which is specialized to the domain we care about?\n",
    "#In this case it's all the domain of designing architectures."
   ]
  },
  {
   "cell_type": "code",
   "execution_count": null,
   "metadata": {},
   "outputs": [],
   "source": []
  },
  {
   "cell_type": "code",
   "execution_count": 145,
   "metadata": {
    "ExecuteTime": {
     "end_time": "2018-05-11T19:38:35.511969Z",
     "start_time": "2018-05-11T19:38:35.507960Z"
    }
   },
   "outputs": [],
   "source": [
    "#So again: The main things are:...\n",
    "#1. The system makes generic decisions, it can be anything as long as we are getting a reward signal.\n",
    "#2. Any decision that may be biased, such as the number of sims where more is almost always better, we should\n",
    "#divide by some function of the max number of choices. So for example, maybe we can divide by between\n",
    "#log(base=1.1-1.9), depending on how we want to balance between improvement per unit\n",
    "#. Unless we make a full program synthesizer, we dont have any real hope of giving the domain to the architecture\n",
    "#builder something like alpha zero. It requires loops, storing variables, etc, and would be nearly impossible\n",
    "#to replicate directly. We can maybe emulate it using a neural network however, such as viewing a state,\n",
    "#generating a \"UCT\" policy, etc, probably for networks it may be better to work with full states rather than\n",
    "#policies, or for example we can do additive attention policies to shift (if applicable)"
   ]
  },
  {
   "cell_type": "code",
   "execution_count": 146,
   "metadata": {
    "ExecuteTime": {
     "end_time": "2018-05-11T19:39:37.406618Z",
     "start_time": "2018-05-11T19:39:37.403025Z"
    }
   },
   "outputs": [],
   "source": [
    "#In theory we could make a neural network approximation of whatever we want, we just need to ensure\n",
    "#we have a rich enough set of options"
   ]
  },
  {
   "cell_type": "code",
   "execution_count": 147,
   "metadata": {
    "ExecuteTime": {
     "end_time": "2018-05-11T19:40:25.529971Z",
     "start_time": "2018-05-11T19:40:25.524802Z"
    }
   },
   "outputs": [],
   "source": [
    "#So anyways yeah the idea is that right now I need to increase the expressivity\n",
    "#such as non linear path through the nodes, being able to choose whether to stop, etc"
   ]
  },
  {
   "cell_type": "code",
   "execution_count": 148,
   "metadata": {
    "ExecuteTime": {
     "end_time": "2018-05-11T19:44:45.581721Z",
     "start_time": "2018-05-11T19:44:45.575137Z"
    }
   },
   "outputs": [],
   "source": [
    "#How would that work?"
   ]
  },
  {
   "cell_type": "code",
   "execution_count": 149,
   "metadata": {
    "ExecuteTime": {
     "end_time": "2018-05-11T19:46:11.538245Z",
     "start_time": "2018-05-11T19:46:11.534074Z"
    }
   },
   "outputs": [],
   "source": [
    "#Basically, we want an upper bound on what we allow the program to do.\n",
    "#Like lets say, if the parameter count is > than 10million, it is automatically considered a failure"
   ]
  },
  {
   "cell_type": "code",
   "execution_count": 150,
   "metadata": {
    "ExecuteTime": {
     "end_time": "2018-05-11T19:46:36.060038Z",
     "start_time": "2018-05-11T19:46:36.056244Z"
    }
   },
   "outputs": [],
   "source": [
    "#And the idea is that we give the program that upper bound, and then let it do anything within that"
   ]
  },
  {
   "cell_type": "code",
   "execution_count": 151,
   "metadata": {
    "ExecuteTime": {
     "end_time": "2018-05-11T19:47:02.402661Z",
     "start_time": "2018-05-11T19:47:02.399234Z"
    }
   },
   "outputs": [],
   "source": [
    "#So it should be basically impossible for the system to overload memory"
   ]
  },
  {
   "cell_type": "code",
   "execution_count": 152,
   "metadata": {
    "ExecuteTime": {
     "end_time": "2018-05-11T19:48:02.179917Z",
     "start_time": "2018-05-11T19:48:02.176094Z"
    }
   },
   "outputs": [],
   "source": [
    "#So lets say for example we calculate, max_layers*max_filters*flattened_input_size*max_batch_size=\n",
    "#num parameters (or something)\n",
    "#and we dont want it to exceed what we expect would be bad"
   ]
  },
  {
   "cell_type": "code",
   "execution_count": 164,
   "metadata": {
    "ExecuteTime": {
     "end_time": "2018-05-11T19:56:50.172692Z",
     "start_time": "2018-05-11T19:56:50.164570Z"
    }
   },
   "outputs": [
    {
     "data": {
      "text/plain": [
       "10.172526041666666"
      ]
     },
     "execution_count": 164,
     "metadata": {},
     "output_type": "execute_result"
    }
   ],
   "source": [
    "max_batch_size = 512\n",
    "flattened_input_size = 3*32*32\n",
    "max_filters = 32\n",
    "max_layers=10\n",
    "\n",
    "#well lets leave one fixed for now\n",
    "#lets say, we have a prior that we want 10 nodes\n",
    "#nodes / variables, etc\n",
    "#well basically we have a tradeoff. Do we want more filters or more layers\n",
    "#seems like what you could do with more nodes is a heck of a lot more interesting\n",
    "#so lets assume that the max filters is 256\n",
    "num_params = max_layers*max_filters*flattened_input_size\\\n",
    "# *max_batch_size\n",
    "#target = lets say (because I have a cpu)\n",
    "#1 million parameters\n",
    "# 1e6 = max_layers*max_filters*flattened_input_size\n",
    "\n",
    "\n",
    "1000000/(max_filters*flattened_input_size)\n",
    "#So for that number of filters for 1m params the max would be 1 layer\n",
    "#Well this is useful"
   ]
  },
  {
   "cell_type": "code",
   "execution_count": 165,
   "metadata": {
    "ExecuteTime": {
     "end_time": "2018-05-11T19:57:41.316240Z",
     "start_time": "2018-05-11T19:57:41.311573Z"
    }
   },
   "outputs": [],
   "source": [
    "#So anyways we need to think about expressiveness\n",
    "#Again we come back to having things be reachable\n",
    "#Is LSTM reachable from the ENAS setup?\n",
    "\n",
    "#They choose an input node, and an activation, and go through each of the nodes, then average the loose ends"
   ]
  },
  {
   "cell_type": "code",
   "execution_count": null,
   "metadata": {},
   "outputs": [],
   "source": [
    "ft = σ(Uf@ht−1 + Wf@xt + bf)\n",
    "ht = ft * ht−1 + (1 − ft) * tanh(Uh@ht−1 + Wh@xt + bh)\n"
   ]
  },
  {
   "cell_type": "code",
   "execution_count": 166,
   "metadata": {
    "ExecuteTime": {
     "end_time": "2018-05-11T19:59:58.607540Z",
     "start_time": "2018-05-11T19:59:58.603024Z"
    }
   },
   "outputs": [],
   "source": [
    "#So for example lets say we have nodes Uf, Wf\n",
    "\n",
    "#.... Well this is going to get complicated\n",
    "#Do I think it's reachable?\n",
    "#You are choosing the output of a previous node"
   ]
  },
  {
   "cell_type": "code",
   "execution_count": 167,
   "metadata": {
    "ExecuteTime": {
     "end_time": "2018-05-11T20:00:52.904886Z",
     "start_time": "2018-05-11T20:00:52.900290Z"
    }
   },
   "outputs": [],
   "source": [
    "#So I think we need to store things as variables\n",
    "#and really I think we want to be able to store an unlimited number of variables up to a certain point\n",
    "#so for example, we choose dynamically, "
   ]
  },
  {
   "cell_type": "code",
   "execution_count": 168,
   "metadata": {
    "ExecuteTime": {
     "end_time": "2018-05-11T20:04:36.141990Z",
     "start_time": "2018-05-11T20:04:36.133548Z"
    }
   },
   "outputs": [],
   "source": [
    "#So lets see, lets just try to make an LSTM using this\n",
    "\n",
    "#So lets say we have a bunch of nodes\n",
    "#Uf, ht-1, Wf, xt, Wh, Uh\n",
    "\n",
    "#Basically we want to pick two nodes, and send the result somewhere else\n",
    "#The issue is that we only keep that set of nodes, we \n",
    "\n",
    "#Basically the issue here is that we dont want to have to overwrite old nodes to hold intermediate representations\n",
    "#it may be possible to do that, but its more complicated and has more potentials for failures, i.e. you need\n",
    "#a very specific order to get the right function "
   ]
  },
  {
   "cell_type": "code",
   "execution_count": 169,
   "metadata": {
    "ExecuteTime": {
     "end_time": "2018-05-11T20:05:18.303022Z",
     "start_time": "2018-05-11T20:05:18.295008Z"
    }
   },
   "outputs": [],
   "source": [
    "#So I think it's probably better to allow to dynamically increase the number of nodes you store"
   ]
  },
  {
   "cell_type": "code",
   "execution_count": 170,
   "metadata": {
    "ExecuteTime": {
     "end_time": "2018-05-11T20:07:15.665927Z",
     "start_time": "2018-05-11T20:07:15.662244Z"
    }
   },
   "outputs": [],
   "source": [
    "#So for example, lets say we determine a maximum number of parameters, and if we exceed that we early quit\n",
    "#And then we need a maximum number of variables"
   ]
  },
  {
   "cell_type": "code",
   "execution_count": 171,
   "metadata": {
    "ExecuteTime": {
     "end_time": "2018-05-11T20:08:03.258610Z",
     "start_time": "2018-05-11T20:08:03.255232Z"
    }
   },
   "outputs": [],
   "source": [
    "#Or in fact, I dont think the memory concern is that much, so we could probably do unlimited variables,\n",
    "#but a maximum number of decisions, i.e. after 500 steps we exit with what we have"
   ]
  },
  {
   "cell_type": "code",
   "execution_count": 172,
   "metadata": {
    "ExecuteTime": {
     "end_time": "2018-05-11T20:09:23.747805Z",
     "start_time": "2018-05-11T20:09:23.743344Z"
    }
   },
   "outputs": [],
   "source": [
    "#So anyways, lets assume w have a dynamic system\n",
    "#Create Uf (could be a complicated conv), create Wf, create Wh, create Uh, etc\n",
    "#for ht-1, we need to somehow store past results, so maybe we can specifically allow the net\n",
    "#to ..."
   ]
  },
  {
   "cell_type": "code",
   "execution_count": 173,
   "metadata": {
    "ExecuteTime": {
     "end_time": "2018-05-11T20:10:17.398111Z",
     "start_time": "2018-05-11T20:10:17.394112Z"
    }
   },
   "outputs": [],
   "source": [
    "#so basically it would be that we need to have arbitrary symbol manipulation\n",
    "#so we need to be able to have the flow of the net follow that\n",
    "#so for example, we create our nodes, "
   ]
  },
  {
   "cell_type": "code",
   "execution_count": 174,
   "metadata": {
    "ExecuteTime": {
     "end_time": "2018-05-11T20:10:51.487501Z",
     "start_time": "2018-05-11T20:10:51.483707Z"
    }
   },
   "outputs": [],
   "source": [
    "#So I guess the algorithm would be two steps, or its all going to be a sequential set of decisions, \n",
    "#but we will then use them in a certain way\n",
    "#so lets see..."
   ]
  },
  {
   "cell_type": "code",
   "execution_count": 175,
   "metadata": {
    "ExecuteTime": {
     "end_time": "2018-05-11T20:11:26.766625Z",
     "start_time": "2018-05-11T20:11:26.762716Z"
    }
   },
   "outputs": [],
   "source": [
    "#Right now we go layer by layer and design all of the hyperparameters for those\n",
    "#what we want to do is declare our variables, then choose how to wire them together"
   ]
  },
  {
   "cell_type": "code",
   "execution_count": 176,
   "metadata": {
    "ExecuteTime": {
     "end_time": "2018-05-11T20:12:52.037845Z",
     "start_time": "2018-05-11T20:12:52.034128Z"
    }
   },
   "outputs": [],
   "source": [
    "#So lets see. We want to make a dynamic system\n",
    "#For that, we need to probably use what pointer nets did\n",
    "#We want to be presented with a set of options"
   ]
  },
  {
   "cell_type": "code",
   "execution_count": 177,
   "metadata": {
    "ExecuteTime": {
     "end_time": "2018-05-11T20:13:07.587551Z",
     "start_time": "2018-05-11T20:13:07.583428Z"
    }
   },
   "outputs": [],
   "source": [
    "#So for example, we would do a top level call for a function which is \"Make a conv layer\""
   ]
  },
  {
   "cell_type": "code",
   "execution_count": 178,
   "metadata": {
    "ExecuteTime": {
     "end_time": "2018-05-11T20:16:30.887046Z",
     "start_time": "2018-05-11T20:16:30.882202Z"
    }
   },
   "outputs": [],
   "source": [
    "#So basically the top level function would decide, quit, or make a new layer (node)\n",
    "#so for make a new layer, it would basically be what we have now\n",
    "#we go through each of the attributes, and we choose values that we believe are exceptable (basically\n",
    "#2^n to 2^(n+k), choosing lower and upper bounds on what we believe are reasonable choices\n",
    "#and at the end we have the full specification of a conv layer, bound to var0, and we can repeat that\n",
    "#and make however many vars we want, up to a certain max layers\n",
    "\n",
    "#when we quit we proceed to the graph flow"
   ]
  },
  {
   "cell_type": "code",
   "execution_count": 179,
   "metadata": {
    "ExecuteTime": {
     "end_time": "2018-05-11T20:16:45.792680Z",
     "start_time": "2018-05-11T20:16:45.788265Z"
    }
   },
   "outputs": [],
   "source": [
    "#So now we have all of these layers, and we need to set up the flow of the data through them"
   ]
  },
  {
   "cell_type": "code",
   "execution_count": 180,
   "metadata": {
    "ExecuteTime": {
     "end_time": "2018-05-11T20:17:33.256174Z",
     "start_time": "2018-05-11T20:17:33.252283Z"
    }
   },
   "outputs": [],
   "source": [
    "#We have one input that will always come in, i.e. the input to the program, and we have one output\n",
    "#that will always go out that needs to be a certain size.\n",
    "#and we will have the simplest stem and output to make things fit, if need be."
   ]
  },
  {
   "cell_type": "code",
   "execution_count": 181,
   "metadata": {
    "ExecuteTime": {
     "end_time": "2018-05-11T20:19:19.058851Z",
     "start_time": "2018-05-11T20:19:19.054593Z"
    }
   },
   "outputs": [],
   "source": [
    "#So anyways, basically every choice is going to be pick input1, input2, and a target, as well as a function\n",
    "#so basically for example lets go back to the forget gate LSTM example"
   ]
  },
  {
   "cell_type": "code",
   "execution_count": null,
   "metadata": {},
   "outputs": [],
   "source": [
    "ft = σ(Uf@ht−1 + Wf@xt + bf)\n",
    "ht = ft * ht−1 + (1 − ft) * tanh(Uh@ht−1 + Wh@xt + bh)\n"
   ]
  },
  {
   "cell_type": "code",
   "execution_count": 182,
   "metadata": {
    "ExecuteTime": {
     "end_time": "2018-05-11T20:20:45.593205Z",
     "start_time": "2018-05-11T20:20:45.589672Z"
    }
   },
   "outputs": [],
   "source": [
    "#We would pick input one, Uf, input2 ht-1, target -> new_var (all targets will be new vars, except maybe\n",
    "#some special ones, idk), function = matrix multiply, and also we pick if there will be an activation"
   ]
  },
  {
   "cell_type": "code",
   "execution_count": 183,
   "metadata": {
    "ExecuteTime": {
     "end_time": "2018-05-11T20:23:09.652950Z",
     "start_time": "2018-05-11T20:23:09.646532Z"
    }
   },
   "outputs": [],
   "source": [
    "# ft = σ(((var0 + var1)=var2 + bf)=var3, activation =sigmoid)\n",
    "# var3\n",
    "# ht = var5=(var4=(ft * ht−1) + var9=(1 − ft)) * tanh(var6=(Uh@ht−1) + Wh@xt + bh)"
   ]
  },
  {
   "cell_type": "code",
   "execution_count": 184,
   "metadata": {
    "ExecuteTime": {
     "end_time": "2018-05-11T20:23:55.525578Z",
     "start_time": "2018-05-11T20:23:55.521538Z"
    }
   },
   "outputs": [],
   "source": [
    "#etc, etc\n",
    "#So that basically convinces me that we can make whatever 2 input function using that system"
   ]
  },
  {
   "cell_type": "code",
   "execution_count": 185,
   "metadata": {
    "ExecuteTime": {
     "end_time": "2018-05-11T20:24:22.018401Z",
     "start_time": "2018-05-11T20:24:22.014314Z"
    }
   },
   "outputs": [],
   "source": [
    "#I should probably read more into program synthesis to get a better understanding, but I think from a \n",
    "#practical standpoint this is a good starting point"
   ]
  },
  {
   "cell_type": "code",
   "execution_count": 186,
   "metadata": {
    "ExecuteTime": {
     "end_time": "2018-05-11T20:25:01.866412Z",
     "start_time": "2018-05-11T20:25:01.862652Z"
    }
   },
   "outputs": [],
   "source": [
    "#Is there a way I could make it easier?\n",
    "#I could maybe limit it so that I dont allow combining old vars with new vars, but I dont think that simplifies\n",
    "#anything."
   ]
  },
  {
   "cell_type": "code",
   "execution_count": 187,
   "metadata": {
    "ExecuteTime": {
     "end_time": "2018-05-11T20:25:55.528752Z",
     "start_time": "2018-05-11T20:25:55.521898Z"
    }
   },
   "outputs": [],
   "source": [
    "#having to specify the activation each time is a little annoying, but its not the end of the world"
   ]
  },
  {
   "cell_type": "code",
   "execution_count": 188,
   "metadata": {
    "ExecuteTime": {
     "end_time": "2018-05-11T20:26:27.188920Z",
     "start_time": "2018-05-11T20:26:27.185528Z"
    }
   },
   "outputs": [],
   "source": [
    "#We could maybe split thing into different parts, i.e. we have an activation part and...\n",
    "#Doesnt stand out as being simpler"
   ]
  },
  {
   "cell_type": "code",
   "execution_count": 189,
   "metadata": {
    "ExecuteTime": {
     "end_time": "2018-05-11T20:28:07.950037Z",
     "start_time": "2018-05-11T20:28:07.945564Z"
    }
   },
   "outputs": [],
   "source": [
    "#Basically we allow an arbitrary number of operations, i.e. maybe 100, and we dont allow the net to\n",
    "#overwrite vars, i.e. the new var will always come out."
   ]
  },
  {
   "cell_type": "code",
   "execution_count": 190,
   "metadata": {
    "ExecuteTime": {
     "end_time": "2018-05-11T20:29:22.347314Z",
     "start_time": "2018-05-11T20:29:22.343514Z"
    }
   },
   "outputs": [],
   "source": [
    "#and at the end we need to finally choose which variable to make the final output"
   ]
  },
  {
   "cell_type": "code",
   "execution_count": null,
   "metadata": {},
   "outputs": [],
   "source": [
    "#for simplicity we can either have the output of the net always "
   ]
  }
 ],
 "metadata": {
  "kernelspec": {
   "display_name": "Python 3",
   "language": "python",
   "name": "python3"
  },
  "language_info": {
   "codemirror_mode": {
    "name": "ipython",
    "version": 3
   },
   "file_extension": ".py",
   "mimetype": "text/x-python",
   "name": "python",
   "nbconvert_exporter": "python",
   "pygments_lexer": "ipython3",
   "version": "3.6.3"
  },
  "toc": {
   "nav_menu": {},
   "number_sections": true,
   "sideBar": true,
   "skip_h1_title": false,
   "toc_cell": false,
   "toc_position": {},
   "toc_section_display": "block",
   "toc_window_display": false
  }
 },
 "nbformat": 4,
 "nbformat_minor": 2
}
